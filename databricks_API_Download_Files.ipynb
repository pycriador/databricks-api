{
  "nbformat": 4,
  "nbformat_minor": 0,
  "metadata": {
    "colab": {
      "provenance": [],
      "collapsed_sections": [],
      "authorship_tag": "ABX9TyPgvYLv1kOAIrwq0v5pl2jz",
      "include_colab_link": true
    },
    "kernelspec": {
      "name": "python3",
      "display_name": "Python 3"
    },
    "language_info": {
      "name": "python"
    }
  },
  "cells": [
    {
      "cell_type": "markdown",
      "metadata": {
        "id": "view-in-github",
        "colab_type": "text"
      },
      "source": [
        "<a href=\"https://colab.research.google.com/github/pycriador/databricks-api/blob/main/databricks_API_Download_Files.ipynb\" target=\"_parent\"><img src=\"https://colab.research.google.com/assets/colab-badge.svg\" alt=\"Open In Colab\"/></a>"
      ]
    },
    {
      "cell_type": "markdown",
      "source": [
        "# Lista de arquivos via databricks API\n",
        "\n",
        "Script simples para fazer a listagem de todos CSV do DBFS do DataBricks e fazer download dos arquivos\n",
        "\n",
        "Instalando depedências:"
      ],
      "metadata": {
        "id": "Xyx8dAVd36yn"
      }
    },
    {
      "cell_type": "code",
      "execution_count": null,
      "metadata": {
        "id": "cHUuF0Uf31gV"
      },
      "outputs": [],
      "source": [
        "!pip install requests\n",
        "!pip install databricks-cli"
      ]
    },
    {
      "cell_type": "markdown",
      "source": [
        "Criar token e informar URL do servidor e pastas desejadas.\n",
        "\n",
        "Veja como criar Token pela interface do databricks [DOC](https://docs.databricks.com/dev-tools/api/latest/authentication.html)"
      ],
      "metadata": {
        "id": "X4e1Wo5i4WTx"
      }
    },
    {
      "cell_type": "code",
      "source": [
        "import requests\n",
        "import json\n",
        "from databricks_cli.sdk.api_client import ApiClient\n",
        "from databricks_cli.dbfs.api import DbfsApi\n",
        "from databricks_cli.dbfs.dbfs_path import DbfsPath\n",
        "import re\n",
        "from datetime import datetime\n",
        "import math\n",
        "\n",
        "#Função para converter o tamanho do arquivo em um melhor formato\n",
        "def convert_size(size_bytes):\n",
        "   if size_bytes == 0:\n",
        "       return \"0B\"\n",
        "   size_name = (\"B\", \"KB\", \"MB\", \"GB\", \"TB\", \"PB\", \"EB\", \"ZB\", \"YB\")\n",
        "   i = int(math.floor(math.log(size_bytes, 1024)))\n",
        "   p = math.pow(1024, i)\n",
        "   s = round(size_bytes / p, 2)\n",
        "   return \"%s %s\" % (s, size_name[i])\n",
        "\n",
        "#Coloque aqui o Token e a URL do seu servidor databricks\n",
        "token = ''\n",
        "url=''\n",
        "\n",
        "\n",
        "api_client = ApiClient(\n",
        "  host  = url,\n",
        "  token = token\n",
        ")\n",
        "\n",
        "#URL API para o dbfs list\n",
        "api_url=f'{url}/api/2.0/dbfs/list'\n",
        "headers= { \"Authorization\" : f\"Bearer {token}\" }\n",
        "\n",
        "path_list = ['/FileStore/pasta1/', '/FileStore/pasta2/', '/FileStore/pasta3/']\n",
        "\n",
        "for path in path_list:\n",
        "  payload= { \"path\": path }\n",
        "  response = requests.request(\"GET\", api_url, json=payload, headers=headers)\n",
        "\n",
        "  #print(response.text)\n",
        "  result = json.loads(response.text)\n",
        "  for info in result['files']:\n",
        "    #Filtrar somente os arquivos CSV\n",
        "    if re.search('.*.csv', str(info['path'])):\n",
        "      print(\"=======================================\")\n",
        "      print(f\"Arquivo: {info['path']}\")\n",
        "      print(f\"Tamanho: {convert_size(info['file_size'])}\")\n",
        "      \n",
        "      #Coletar data de modificação\n",
        "      data =  info['modification_time']\n",
        "      ts = int(str(data)[:10])\n",
        "      #Mostrar na tela a hora de modificação\n",
        "      modificacao = datetime.utcfromtimestamp(ts).strftime('%d-%m-%Y %H:%M:%S')\n",
        "      print(f\"Modificado em: {modificacao}\")\n",
        "      dbfs_source_file_path      = f'dbfs:{info[\"path\"]}'\n",
        "      local_file_download_path   = f'{path.split(\"/\")[-2]}.csv'\n",
        "\n",
        "      dbfs_api  = DbfsApi(api_client)\n",
        "      dbfs_path = DbfsPath(dbfs_source_file_path)\n",
        "\n",
        "      # Download local\n",
        "      dbfs_api.get_file(dbfs_path, local_file_download_path,overwrite = True)"
      ],
      "metadata": {
        "id": "qW6uo5Vx4WfS"
      },
      "execution_count": null,
      "outputs": []
    }
  ]
}